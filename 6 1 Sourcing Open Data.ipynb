{
 "cells": [
  {
   "cell_type": "code",
   "execution_count": 178,
   "id": "ccc6ce15",
   "metadata": {},
   "outputs": [],
   "source": [
    "#importing libraries\n",
    "import pandas as pd\n",
    "import numpy as np\n",
    "import os\n",
    "import matplotlib.pyplot as plt\n",
    "import seaborn as sns\n",
    "import scipy\n",
    "from statistics import mode"
   ]
  },
  {
   "cell_type": "code",
   "execution_count": 179,
   "id": "4612fc39",
   "metadata": {},
   "outputs": [],
   "source": [
    "# folder path into a string \n",
    "path = r'C:\\\\Users\\\\Jalon\\\\Desktop\\\\python_projects'\n"
   ]
  },
  {
   "cell_type": "code",
   "execution_count": 180,
   "id": "bed3f52c",
   "metadata": {},
   "outputs": [],
   "source": [
    "#importing citibike df\n",
    "df = pd.read_csv(os.path.join(path,'citibike.csv'))"
   ]
  },
  {
   "cell_type": "code",
   "execution_count": null,
   "id": "bf82505e",
   "metadata": {},
   "outputs": [],
   "source": []
  },
  {
   "cell_type": "code",
   "execution_count": 181,
   "id": "f1a91803",
   "metadata": {},
   "outputs": [
    {
     "data": {
      "text/html": [
       "<div>\n",
       "<style scoped>\n",
       "    .dataframe tbody tr th:only-of-type {\n",
       "        vertical-align: middle;\n",
       "    }\n",
       "\n",
       "    .dataframe tbody tr th {\n",
       "        vertical-align: top;\n",
       "    }\n",
       "\n",
       "    .dataframe thead th {\n",
       "        text-align: right;\n",
       "    }\n",
       "</style>\n",
       "<table border=\"1\" class=\"dataframe\">\n",
       "  <thead>\n",
       "    <tr style=\"text-align: right;\">\n",
       "      <th></th>\n",
       "      <th>trip_id</th>\n",
       "      <th>bike_id</th>\n",
       "      <th>weekday</th>\n",
       "      <th>start_hour</th>\n",
       "      <th>start_time</th>\n",
       "      <th>start_station_id</th>\n",
       "      <th>start_station_name</th>\n",
       "      <th>start_station_latitude</th>\n",
       "      <th>start_station_longitude</th>\n",
       "      <th>end_time</th>\n",
       "      <th>end_station_id</th>\n",
       "      <th>end_station_name</th>\n",
       "      <th>end_station_latitude</th>\n",
       "      <th>end_station_longitude</th>\n",
       "      <th>trip_duration</th>\n",
       "      <th>subscriber</th>\n",
       "      <th>birth_year</th>\n",
       "      <th>gender</th>\n",
       "    </tr>\n",
       "  </thead>\n",
       "  <tbody>\n",
       "    <tr>\n",
       "      <th>0</th>\n",
       "      <td>LnQzQk</td>\n",
       "      <td>16013</td>\n",
       "      <td>Mon</td>\n",
       "      <td>18</td>\n",
       "      <td>2013-09-09 18:18:55</td>\n",
       "      <td>523</td>\n",
       "      <td>W 38 St &amp; 8 Ave</td>\n",
       "      <td>40.754666</td>\n",
       "      <td>-73.991382</td>\n",
       "      <td>2013-09-09 18:35:28</td>\n",
       "      <td>334</td>\n",
       "      <td>W 20 St &amp; 7 Ave</td>\n",
       "      <td>40.742388</td>\n",
       "      <td>-73.997262</td>\n",
       "      <td>993</td>\n",
       "      <td>Subscriber</td>\n",
       "      <td>1968.0</td>\n",
       "      <td>2</td>\n",
       "    </tr>\n",
       "    <tr>\n",
       "      <th>1</th>\n",
       "      <td>IL9boN</td>\n",
       "      <td>15230</td>\n",
       "      <td>Thu</td>\n",
       "      <td>18</td>\n",
       "      <td>2013-09-12 18:38:53</td>\n",
       "      <td>257</td>\n",
       "      <td>Lispenard St &amp; Broadway</td>\n",
       "      <td>40.719392</td>\n",
       "      <td>-74.002472</td>\n",
       "      <td>2013-09-12 18:48:34</td>\n",
       "      <td>236</td>\n",
       "      <td>St Marks Pl &amp; 2 Ave</td>\n",
       "      <td>40.728419</td>\n",
       "      <td>-73.987140</td>\n",
       "      <td>581</td>\n",
       "      <td>Subscriber</td>\n",
       "      <td>1983.0</td>\n",
       "      <td>1</td>\n",
       "    </tr>\n",
       "    <tr>\n",
       "      <th>2</th>\n",
       "      <td>46clGB</td>\n",
       "      <td>17942</td>\n",
       "      <td>Wed</td>\n",
       "      <td>19</td>\n",
       "      <td>2013-09-18 19:44:04</td>\n",
       "      <td>479</td>\n",
       "      <td>9 Ave &amp; W 45 St</td>\n",
       "      <td>40.760193</td>\n",
       "      <td>-73.991255</td>\n",
       "      <td>2013-09-18 19:50:05</td>\n",
       "      <td>513</td>\n",
       "      <td>W 56 St &amp; 10 Ave</td>\n",
       "      <td>40.768254</td>\n",
       "      <td>-73.988639</td>\n",
       "      <td>361</td>\n",
       "      <td>Subscriber</td>\n",
       "      <td>1989.0</td>\n",
       "      <td>1</td>\n",
       "    </tr>\n",
       "    <tr>\n",
       "      <th>3</th>\n",
       "      <td>v7vdFt</td>\n",
       "      <td>19683</td>\n",
       "      <td>Sat</td>\n",
       "      <td>11</td>\n",
       "      <td>2013-09-28 11:54:37</td>\n",
       "      <td>527</td>\n",
       "      <td>E 33 St &amp; 1 Ave</td>\n",
       "      <td>40.743156</td>\n",
       "      <td>-73.974347</td>\n",
       "      <td>2013-09-28 12:03:58</td>\n",
       "      <td>441</td>\n",
       "      <td>E 52 St &amp; 2 Ave</td>\n",
       "      <td>40.756014</td>\n",
       "      <td>-73.967416</td>\n",
       "      <td>561</td>\n",
       "      <td>Subscriber</td>\n",
       "      <td>1988.0</td>\n",
       "      <td>2</td>\n",
       "    </tr>\n",
       "    <tr>\n",
       "      <th>4</th>\n",
       "      <td>VGBsb5</td>\n",
       "      <td>18024</td>\n",
       "      <td>Sat</td>\n",
       "      <td>18</td>\n",
       "      <td>2013-09-07 18:08:22</td>\n",
       "      <td>521</td>\n",
       "      <td>8 Ave &amp; W 31 St</td>\n",
       "      <td>40.750450</td>\n",
       "      <td>-73.994811</td>\n",
       "      <td>2013-09-07 18:46:38</td>\n",
       "      <td>476</td>\n",
       "      <td>E 31 St &amp; 3 Ave</td>\n",
       "      <td>40.743943</td>\n",
       "      <td>-73.979661</td>\n",
       "      <td>2296</td>\n",
       "      <td>Non-Subscriber</td>\n",
       "      <td>NaN</td>\n",
       "      <td>0</td>\n",
       "    </tr>\n",
       "    <tr>\n",
       "      <th>...</th>\n",
       "      <td>...</td>\n",
       "      <td>...</td>\n",
       "      <td>...</td>\n",
       "      <td>...</td>\n",
       "      <td>...</td>\n",
       "      <td>...</td>\n",
       "      <td>...</td>\n",
       "      <td>...</td>\n",
       "      <td>...</td>\n",
       "      <td>...</td>\n",
       "      <td>...</td>\n",
       "      <td>...</td>\n",
       "      <td>...</td>\n",
       "      <td>...</td>\n",
       "      <td>...</td>\n",
       "      <td>...</td>\n",
       "      <td>...</td>\n",
       "      <td>...</td>\n",
       "    </tr>\n",
       "    <tr>\n",
       "      <th>49995</th>\n",
       "      <td>Fb2bmC</td>\n",
       "      <td>17988</td>\n",
       "      <td>Sat</td>\n",
       "      <td>18</td>\n",
       "      <td>2013-09-21 18:39:20</td>\n",
       "      <td>479</td>\n",
       "      <td>9 Ave &amp; W 45 St</td>\n",
       "      <td>40.760193</td>\n",
       "      <td>-73.991255</td>\n",
       "      <td>2013-09-21 20:08:59</td>\n",
       "      <td>478</td>\n",
       "      <td>11 Ave &amp; W 41 St</td>\n",
       "      <td>40.760301</td>\n",
       "      <td>-73.998842</td>\n",
       "      <td>2697</td>\n",
       "      <td>Non-Subscriber</td>\n",
       "      <td>NaN</td>\n",
       "      <td>0</td>\n",
       "    </tr>\n",
       "    <tr>\n",
       "      <th>49996</th>\n",
       "      <td>XGB7JU</td>\n",
       "      <td>18458</td>\n",
       "      <td>Sat</td>\n",
       "      <td>17</td>\n",
       "      <td>2013-09-14 17:32:26</td>\n",
       "      <td>261</td>\n",
       "      <td>Johnson St &amp; Gold St</td>\n",
       "      <td>40.694749</td>\n",
       "      <td>-73.983625</td>\n",
       "      <td>2013-09-14 17:52:17</td>\n",
       "      <td>151</td>\n",
       "      <td>Cleveland Pl &amp; Spring St</td>\n",
       "      <td>40.721816</td>\n",
       "      <td>-73.997203</td>\n",
       "      <td>1191</td>\n",
       "      <td>Subscriber</td>\n",
       "      <td>1970.0</td>\n",
       "      <td>2</td>\n",
       "    </tr>\n",
       "    <tr>\n",
       "      <th>49997</th>\n",
       "      <td>vFs2HS</td>\n",
       "      <td>15054</td>\n",
       "      <td>Sat</td>\n",
       "      <td>18</td>\n",
       "      <td>2013-09-07 18:08:21</td>\n",
       "      <td>402</td>\n",
       "      <td>Broadway &amp; E 22 St</td>\n",
       "      <td>40.740343</td>\n",
       "      <td>-73.989551</td>\n",
       "      <td>2013-09-07 18:25:51</td>\n",
       "      <td>524</td>\n",
       "      <td>W 43 St &amp; 6 Ave</td>\n",
       "      <td>40.755273</td>\n",
       "      <td>-73.983169</td>\n",
       "      <td>1050</td>\n",
       "      <td>Subscriber</td>\n",
       "      <td>1961.0</td>\n",
       "      <td>2</td>\n",
       "    </tr>\n",
       "    <tr>\n",
       "      <th>49998</th>\n",
       "      <td>xxacSt</td>\n",
       "      <td>16763</td>\n",
       "      <td>Sat</td>\n",
       "      <td>13</td>\n",
       "      <td>2013-09-07 13:25:35</td>\n",
       "      <td>271</td>\n",
       "      <td>Ashland Pl &amp; Hanson Pl</td>\n",
       "      <td>40.685282</td>\n",
       "      <td>-73.978058</td>\n",
       "      <td>2013-09-07 14:14:04</td>\n",
       "      <td>373</td>\n",
       "      <td>Willoughby Ave &amp; Walworth St</td>\n",
       "      <td>40.693317</td>\n",
       "      <td>-73.953820</td>\n",
       "      <td>2697</td>\n",
       "      <td>Non-Subscriber</td>\n",
       "      <td>NaN</td>\n",
       "      <td>0</td>\n",
       "    </tr>\n",
       "    <tr>\n",
       "      <th>49999</th>\n",
       "      <td>4ZmicF</td>\n",
       "      <td>16794</td>\n",
       "      <td>Mon</td>\n",
       "      <td>21</td>\n",
       "      <td>2013-09-23 21:54:36</td>\n",
       "      <td>515</td>\n",
       "      <td>W 43 St &amp; 10 Ave</td>\n",
       "      <td>40.760094</td>\n",
       "      <td>-73.994618</td>\n",
       "      <td>2013-09-23 22:00:46</td>\n",
       "      <td>488</td>\n",
       "      <td>W 39 St &amp; 9 Ave</td>\n",
       "      <td>40.756458</td>\n",
       "      <td>-73.993722</td>\n",
       "      <td>370</td>\n",
       "      <td>Subscriber</td>\n",
       "      <td>1980.0</td>\n",
       "      <td>2</td>\n",
       "    </tr>\n",
       "  </tbody>\n",
       "</table>\n",
       "<p>50000 rows × 18 columns</p>\n",
       "</div>"
      ],
      "text/plain": [
       "      trip_id  bike_id weekday  start_hour           start_time  \\\n",
       "0      LnQzQk    16013     Mon          18  2013-09-09 18:18:55   \n",
       "1      IL9boN    15230     Thu          18  2013-09-12 18:38:53   \n",
       "2      46clGB    17942     Wed          19  2013-09-18 19:44:04   \n",
       "3      v7vdFt    19683     Sat          11  2013-09-28 11:54:37   \n",
       "4      VGBsb5    18024     Sat          18  2013-09-07 18:08:22   \n",
       "...       ...      ...     ...         ...                  ...   \n",
       "49995  Fb2bmC    17988     Sat          18  2013-09-21 18:39:20   \n",
       "49996  XGB7JU    18458     Sat          17  2013-09-14 17:32:26   \n",
       "49997  vFs2HS    15054     Sat          18  2013-09-07 18:08:21   \n",
       "49998  xxacSt    16763     Sat          13  2013-09-07 13:25:35   \n",
       "49999  4ZmicF    16794     Mon          21  2013-09-23 21:54:36   \n",
       "\n",
       "       start_station_id       start_station_name  start_station_latitude  \\\n",
       "0                   523          W 38 St & 8 Ave               40.754666   \n",
       "1                   257  Lispenard St & Broadway               40.719392   \n",
       "2                   479          9 Ave & W 45 St               40.760193   \n",
       "3                   527          E 33 St & 1 Ave               40.743156   \n",
       "4                   521          8 Ave & W 31 St               40.750450   \n",
       "...                 ...                      ...                     ...   \n",
       "49995               479          9 Ave & W 45 St               40.760193   \n",
       "49996               261     Johnson St & Gold St               40.694749   \n",
       "49997               402       Broadway & E 22 St               40.740343   \n",
       "49998               271   Ashland Pl & Hanson Pl               40.685282   \n",
       "49999               515         W 43 St & 10 Ave               40.760094   \n",
       "\n",
       "       start_station_longitude             end_time  end_station_id  \\\n",
       "0                   -73.991382  2013-09-09 18:35:28             334   \n",
       "1                   -74.002472  2013-09-12 18:48:34             236   \n",
       "2                   -73.991255  2013-09-18 19:50:05             513   \n",
       "3                   -73.974347  2013-09-28 12:03:58             441   \n",
       "4                   -73.994811  2013-09-07 18:46:38             476   \n",
       "...                        ...                  ...             ...   \n",
       "49995               -73.991255  2013-09-21 20:08:59             478   \n",
       "49996               -73.983625  2013-09-14 17:52:17             151   \n",
       "49997               -73.989551  2013-09-07 18:25:51             524   \n",
       "49998               -73.978058  2013-09-07 14:14:04             373   \n",
       "49999               -73.994618  2013-09-23 22:00:46             488   \n",
       "\n",
       "                   end_station_name  end_station_latitude  \\\n",
       "0                   W 20 St & 7 Ave             40.742388   \n",
       "1               St Marks Pl & 2 Ave             40.728419   \n",
       "2                  W 56 St & 10 Ave             40.768254   \n",
       "3                   E 52 St & 2 Ave             40.756014   \n",
       "4                   E 31 St & 3 Ave             40.743943   \n",
       "...                             ...                   ...   \n",
       "49995              11 Ave & W 41 St             40.760301   \n",
       "49996      Cleveland Pl & Spring St             40.721816   \n",
       "49997               W 43 St & 6 Ave             40.755273   \n",
       "49998  Willoughby Ave & Walworth St             40.693317   \n",
       "49999               W 39 St & 9 Ave             40.756458   \n",
       "\n",
       "       end_station_longitude  trip_duration      subscriber  birth_year  \\\n",
       "0                 -73.997262            993      Subscriber      1968.0   \n",
       "1                 -73.987140            581      Subscriber      1983.0   \n",
       "2                 -73.988639            361      Subscriber      1989.0   \n",
       "3                 -73.967416            561      Subscriber      1988.0   \n",
       "4                 -73.979661           2296  Non-Subscriber         NaN   \n",
       "...                      ...            ...             ...         ...   \n",
       "49995             -73.998842           2697  Non-Subscriber         NaN   \n",
       "49996             -73.997203           1191      Subscriber      1970.0   \n",
       "49997             -73.983169           1050      Subscriber      1961.0   \n",
       "49998             -73.953820           2697  Non-Subscriber         NaN   \n",
       "49999             -73.993722            370      Subscriber      1980.0   \n",
       "\n",
       "       gender  \n",
       "0           2  \n",
       "1           1  \n",
       "2           1  \n",
       "3           2  \n",
       "4           0  \n",
       "...       ...  \n",
       "49995       0  \n",
       "49996       2  \n",
       "49997       2  \n",
       "49998       0  \n",
       "49999       2  \n",
       "\n",
       "[50000 rows x 18 columns]"
      ]
     },
     "execution_count": 181,
     "metadata": {},
     "output_type": "execute_result"
    }
   ],
   "source": [
    "df"
   ]
  },
  {
   "cell_type": "code",
   "execution_count": 182,
   "id": "b437be59",
   "metadata": {},
   "outputs": [
    {
     "name": "stdout",
     "output_type": "stream",
     "text": [
      "<class 'pandas.core.frame.DataFrame'>\n",
      "RangeIndex: 50000 entries, 0 to 49999\n",
      "Data columns (total 18 columns):\n",
      " #   Column                   Non-Null Count  Dtype  \n",
      "---  ------                   --------------  -----  \n",
      " 0   trip_id                  50000 non-null  object \n",
      " 1   bike_id                  50000 non-null  int64  \n",
      " 2   weekday                  50000 non-null  object \n",
      " 3   start_hour               50000 non-null  int64  \n",
      " 4   start_time               50000 non-null  object \n",
      " 5   start_station_id         50000 non-null  int64  \n",
      " 6   start_station_name       50000 non-null  object \n",
      " 7   start_station_latitude   50000 non-null  float64\n",
      " 8   start_station_longitude  50000 non-null  float64\n",
      " 9   end_time                 50000 non-null  object \n",
      " 10  end_station_id           50000 non-null  int64  \n",
      " 11  end_station_name         50000 non-null  object \n",
      " 12  end_station_latitude     50000 non-null  float64\n",
      " 13  end_station_longitude    50000 non-null  float64\n",
      " 14  trip_duration            50000 non-null  int64  \n",
      " 15  subscriber               50000 non-null  object \n",
      " 16  birth_year               43021 non-null  float64\n",
      " 17  gender                   50000 non-null  int64  \n",
      "dtypes: float64(5), int64(6), object(7)\n",
      "memory usage: 6.9+ MB\n"
     ]
    }
   ],
   "source": [
    "df.info()\n"
   ]
  },
  {
   "cell_type": "code",
   "execution_count": 188,
   "id": "f5af6aa7",
   "metadata": {},
   "outputs": [],
   "source": [
    "#Assigning a more suitable type for all id columns\n",
    "df[\"bike_id\"]=df[\"bike_id\"].astype('str')\n",
    "df[\"start_station_id\"]=df[\"start_station_id\"].astype('str')\n",
    "df[\"end_station_id\"]=df[\"end_station_id\"].astype('str')\n",
    "df[\"gender\"]=df[\"gender\"].astype('O')"
   ]
  },
  {
   "cell_type": "code",
   "execution_count": 189,
   "id": "b3153f7d",
   "metadata": {},
   "outputs": [],
   "source": [
    "#Assigning a more suitable type to start and end time\n",
    "\n",
    "df[\"start_time\"] = pd.to_datetime(df[\"start_time\"])\n",
    "df[\"end_time\"] = pd.to_datetime(df[\"end_time\"])"
   ]
  },
  {
   "cell_type": "code",
   "execution_count": 190,
   "id": "353959ba",
   "metadata": {},
   "outputs": [
    {
     "data": {
      "text/plain": [
       "count    50000.000000\n",
       "mean       838.982900\n",
       "std        573.663997\n",
       "min         60.000000\n",
       "25%        417.000000\n",
       "50%        672.000000\n",
       "75%       1112.000000\n",
       "max       2697.000000\n",
       "Name: trip_duration, dtype: float64"
      ]
     },
     "execution_count": 190,
     "metadata": {},
     "output_type": "execute_result"
    }
   ],
   "source": [
    "#basic stastic analyses to the column trip duration\n",
    "df[\"trip_duration\"].describe()"
   ]
  },
  {
   "cell_type": "code",
   "execution_count": 191,
   "id": "f9a15571",
   "metadata": {},
   "outputs": [
    {
     "data": {
      "text/plain": [
       "Index(['trip_id', 'bike_id', 'weekday', 'start_hour', 'start_time',\n",
       "       'start_station_id', 'start_station_name', 'start_station_latitude',\n",
       "       'start_station_longitude', 'end_time', 'end_station_id',\n",
       "       'end_station_name', 'end_station_latitude', 'end_station_longitude',\n",
       "       'trip_duration', 'subscriber', 'birth_year', 'gender'],\n",
       "      dtype='object')"
      ]
     },
     "execution_count": 191,
     "metadata": {},
     "output_type": "execute_result"
    }
   ],
   "source": [
    "df.columns"
   ]
  },
  {
   "cell_type": "code",
   "execution_count": 159,
   "id": "8baa7fd3",
   "metadata": {},
   "outputs": [
    {
     "name": "stdout",
     "output_type": "stream",
     "text": [
      "trip_id\n",
      "count      50000\n",
      "unique     50000\n",
      "top       LnQzQk\n",
      "freq           1\n",
      "Name: trip_id, dtype: object\n",
      "--------------\n",
      "--------------\n",
      "bike_id\n",
      "count     50000\n",
      "unique      996\n",
      "top       16188\n",
      "freq         93\n",
      "Name: bike_id, dtype: object\n",
      "--------------\n",
      "--------------\n",
      "weekday\n",
      "count     50000\n",
      "unique        7\n",
      "top           1\n",
      "freq       7715\n",
      "Name: weekday, dtype: int64\n",
      "--------------\n",
      "--------------\n",
      "start_hour\n",
      "count    50000.000000\n",
      "mean        14.145240\n",
      "std          4.860541\n",
      "min          0.000000\n",
      "25%         10.000000\n",
      "50%         15.000000\n",
      "75%         18.000000\n",
      "max         23.000000\n",
      "Name: start_hour, dtype: float64\n",
      "--------------\n",
      "--------------\n",
      "start_time\n",
      "count                   50000\n",
      "unique                  49234\n",
      "top       2013-09-16 17:40:57\n",
      "freq                        4\n",
      "first     2013-09-01 00:00:35\n",
      "last      2013-09-30 23:58:17\n",
      "Name: start_time, dtype: object\n",
      "--------------\n",
      "--------------\n",
      "start_station_id\n",
      "count     50000\n",
      "unique      330\n",
      "top         459\n",
      "freq        536\n",
      "Name: start_station_id, dtype: object\n",
      "--------------\n",
      "--------------\n",
      "start_station_name\n",
      "count                50000\n",
      "unique                 330\n",
      "top       W 20 St & 11 Ave\n",
      "freq                   536\n",
      "Name: start_station_name, dtype: object\n",
      "--------------\n",
      "--------------\n",
      "start_station_latitude\n",
      "count    50000.000000\n",
      "mean        40.734170\n",
      "std          0.019911\n",
      "min         40.680342\n",
      "25%         40.720196\n",
      "50%         40.735877\n",
      "75%         40.750020\n",
      "max         40.770513\n",
      "Name: start_station_latitude, dtype: float64\n",
      "--------------\n",
      "--------------\n",
      "start_station_longitude\n",
      "count    50000.000000\n",
      "mean       -73.991109\n",
      "std          0.012555\n",
      "min        -74.017134\n",
      "25%        -74.000271\n",
      "50%        -73.990765\n",
      "75%        -73.981923\n",
      "max        -73.950048\n",
      "Name: start_station_longitude, dtype: float64\n",
      "--------------\n",
      "--------------\n",
      "end_time\n",
      "count                   50000\n",
      "unique                  49265\n",
      "top       2013-09-27 17:57:38\n",
      "freq                        3\n",
      "first     2013-09-01 00:07:15\n",
      "last      2013-10-01 00:15:29\n",
      "Name: end_time, dtype: object\n",
      "--------------\n",
      "--------------\n",
      "end_station_id\n",
      "count     50000\n",
      "unique      330\n",
      "top         497\n",
      "freq        572\n",
      "Name: end_station_id, dtype: object\n",
      "--------------\n",
      "--------------\n",
      "end_station_name\n",
      "count                  50000\n",
      "unique                   330\n",
      "top       E 17 St & Broadway\n",
      "freq                     572\n",
      "Name: end_station_name, dtype: object\n",
      "--------------\n",
      "--------------\n",
      "end_station_latitude\n",
      "count    50000.000000\n",
      "mean        40.733859\n",
      "std          0.019885\n",
      "min         40.680342\n",
      "25%         40.720196\n",
      "50%         40.735354\n",
      "75%         40.749013\n",
      "max         40.770513\n",
      "Name: end_station_latitude, dtype: float64\n",
      "--------------\n",
      "--------------\n",
      "end_station_longitude\n",
      "count    50000.000000\n",
      "mean       -73.991351\n",
      "std          0.012569\n",
      "min        -74.017134\n",
      "25%        -74.001547\n",
      "50%        -73.991218\n",
      "75%        -73.982050\n",
      "max        -73.950048\n",
      "Name: end_station_longitude, dtype: float64\n",
      "--------------\n",
      "--------------\n",
      "trip_duration\n",
      "count    50000.000000\n",
      "mean       838.982900\n",
      "std        573.663997\n",
      "min         60.000000\n",
      "25%        417.000000\n",
      "50%        672.000000\n",
      "75%       1112.000000\n",
      "max       2697.000000\n",
      "Name: trip_duration, dtype: float64\n",
      "--------------\n",
      "--------------\n",
      "subscriber\n",
      "count          50000\n",
      "unique             2\n",
      "top       Subscriber\n",
      "freq           43021\n",
      "Name: subscriber, dtype: object\n",
      "--------------\n",
      "--------------\n",
      "birth_year\n",
      "count                             43021\n",
      "unique                               76\n",
      "top       1970-01-01 00:00:00.000001985\n",
      "freq                               1837\n",
      "first     1970-01-01 00:00:00.000001899\n",
      "last      1970-01-01 00:00:00.000001997\n",
      "Name: birth_year, dtype: object\n",
      "--------------\n",
      "--------------\n",
      "gender\n",
      "count     50000\n",
      "unique        3\n",
      "top           1\n",
      "freq      32361\n",
      "Name: gender, dtype: int64\n",
      "--------------\n",
      "--------------\n"
     ]
    },
    {
     "name": "stderr",
     "output_type": "stream",
     "text": [
      "C:\\Users\\Jalon\\AppData\\Local\\Temp/ipykernel_18836/422105553.py:3: FutureWarning: Treating datetime data as categorical rather than numeric in `.describe` is deprecated and will be removed in a future version of pandas. Specify `datetime_is_numeric=True` to silence this warning and adopt the future behavior now.\n",
      "  print(df[x].describe())\n",
      "C:\\Users\\Jalon\\AppData\\Local\\Temp/ipykernel_18836/422105553.py:3: FutureWarning: Treating datetime data as categorical rather than numeric in `.describe` is deprecated and will be removed in a future version of pandas. Specify `datetime_is_numeric=True` to silence this warning and adopt the future behavior now.\n",
      "  print(df[x].describe())\n",
      "C:\\Users\\Jalon\\AppData\\Local\\Temp/ipykernel_18836/422105553.py:3: FutureWarning: Treating datetime data as categorical rather than numeric in `.describe` is deprecated and will be removed in a future version of pandas. Specify `datetime_is_numeric=True` to silence this warning and adopt the future behavior now.\n",
      "  print(df[x].describe())\n"
     ]
    }
   ],
   "source": [
    "#basic statistical analysis to all the columns, here we should ignore the longitude and latitude columns\n",
    "for x in df.columns:\n",
    "    print(x)\n",
    "    print(df[x].describe())\n",
    "    print(\"--------------\")   \n",
    "    print(\"--------------\")  "
   ]
  },
  {
   "cell_type": "code",
   "execution_count": null,
   "id": "d6dc3550",
   "metadata": {},
   "outputs": [],
   "source": []
  },
  {
   "cell_type": "code",
   "execution_count": 43,
   "id": "19da0fb5",
   "metadata": {},
   "outputs": [
    {
     "data": {
      "text/html": [
       "<div>\n",
       "<style scoped>\n",
       "    .dataframe tbody tr th:only-of-type {\n",
       "        vertical-align: middle;\n",
       "    }\n",
       "\n",
       "    .dataframe tbody tr th {\n",
       "        vertical-align: top;\n",
       "    }\n",
       "\n",
       "    .dataframe thead th {\n",
       "        text-align: right;\n",
       "    }\n",
       "</style>\n",
       "<table border=\"1\" class=\"dataframe\">\n",
       "  <thead>\n",
       "    <tr style=\"text-align: right;\">\n",
       "      <th></th>\n",
       "      <th>trip_id</th>\n",
       "      <th>bike_id</th>\n",
       "      <th>weekday</th>\n",
       "      <th>start_hour</th>\n",
       "      <th>start_time</th>\n",
       "      <th>start_station_id</th>\n",
       "      <th>start_station_name</th>\n",
       "      <th>start_station_latitude</th>\n",
       "      <th>start_station_longitude</th>\n",
       "      <th>end_time</th>\n",
       "      <th>end_station_id</th>\n",
       "      <th>end_station_name</th>\n",
       "      <th>end_station_latitude</th>\n",
       "      <th>end_station_longitude</th>\n",
       "      <th>trip_duration</th>\n",
       "      <th>subscriber</th>\n",
       "      <th>birth_year</th>\n",
       "      <th>gender</th>\n",
       "    </tr>\n",
       "  </thead>\n",
       "  <tbody>\n",
       "    <tr>\n",
       "      <th>0</th>\n",
       "      <td>LnQzQk</td>\n",
       "      <td>16013</td>\n",
       "      <td>Mon</td>\n",
       "      <td>18</td>\n",
       "      <td>2013-09-09 18:18:55</td>\n",
       "      <td>523</td>\n",
       "      <td>W 38 St &amp; 8 Ave</td>\n",
       "      <td>40.754666</td>\n",
       "      <td>-73.991382</td>\n",
       "      <td>2013-09-09 18:35:28</td>\n",
       "      <td>334</td>\n",
       "      <td>W 20 St &amp; 7 Ave</td>\n",
       "      <td>40.742388</td>\n",
       "      <td>-73.997262</td>\n",
       "      <td>993</td>\n",
       "      <td>Subscriber</td>\n",
       "      <td>1968.0</td>\n",
       "      <td>2</td>\n",
       "    </tr>\n",
       "    <tr>\n",
       "      <th>1</th>\n",
       "      <td>IL9boN</td>\n",
       "      <td>15230</td>\n",
       "      <td>Thu</td>\n",
       "      <td>18</td>\n",
       "      <td>2013-09-12 18:38:53</td>\n",
       "      <td>257</td>\n",
       "      <td>Lispenard St &amp; Broadway</td>\n",
       "      <td>40.719392</td>\n",
       "      <td>-74.002472</td>\n",
       "      <td>2013-09-12 18:48:34</td>\n",
       "      <td>236</td>\n",
       "      <td>St Marks Pl &amp; 2 Ave</td>\n",
       "      <td>40.728419</td>\n",
       "      <td>-73.987140</td>\n",
       "      <td>581</td>\n",
       "      <td>Subscriber</td>\n",
       "      <td>1983.0</td>\n",
       "      <td>1</td>\n",
       "    </tr>\n",
       "    <tr>\n",
       "      <th>2</th>\n",
       "      <td>46clGB</td>\n",
       "      <td>17942</td>\n",
       "      <td>Wed</td>\n",
       "      <td>19</td>\n",
       "      <td>2013-09-18 19:44:04</td>\n",
       "      <td>479</td>\n",
       "      <td>9 Ave &amp; W 45 St</td>\n",
       "      <td>40.760193</td>\n",
       "      <td>-73.991255</td>\n",
       "      <td>2013-09-18 19:50:05</td>\n",
       "      <td>513</td>\n",
       "      <td>W 56 St &amp; 10 Ave</td>\n",
       "      <td>40.768254</td>\n",
       "      <td>-73.988639</td>\n",
       "      <td>361</td>\n",
       "      <td>Subscriber</td>\n",
       "      <td>1989.0</td>\n",
       "      <td>1</td>\n",
       "    </tr>\n",
       "  </tbody>\n",
       "</table>\n",
       "</div>"
      ],
      "text/plain": [
       "  trip_id  bike_id weekday  start_hour           start_time  start_station_id  \\\n",
       "0  LnQzQk    16013     Mon          18  2013-09-09 18:18:55               523   \n",
       "1  IL9boN    15230     Thu          18  2013-09-12 18:38:53               257   \n",
       "2  46clGB    17942     Wed          19  2013-09-18 19:44:04               479   \n",
       "\n",
       "        start_station_name  start_station_latitude  start_station_longitude  \\\n",
       "0          W 38 St & 8 Ave               40.754666               -73.991382   \n",
       "1  Lispenard St & Broadway               40.719392               -74.002472   \n",
       "2          9 Ave & W 45 St               40.760193               -73.991255   \n",
       "\n",
       "              end_time  end_station_id     end_station_name  \\\n",
       "0  2013-09-09 18:35:28             334      W 20 St & 7 Ave   \n",
       "1  2013-09-12 18:48:34             236  St Marks Pl & 2 Ave   \n",
       "2  2013-09-18 19:50:05             513     W 56 St & 10 Ave   \n",
       "\n",
       "   end_station_latitude  end_station_longitude  trip_duration  subscriber  \\\n",
       "0             40.742388             -73.997262            993  Subscriber   \n",
       "1             40.728419             -73.987140            581  Subscriber   \n",
       "2             40.768254             -73.988639            361  Subscriber   \n",
       "\n",
       "   birth_year  gender  \n",
       "0      1968.0       2  \n",
       "1      1983.0       1  \n",
       "2      1989.0       1  "
      ]
     },
     "execution_count": 43,
     "metadata": {},
     "output_type": "execute_result"
    }
   ],
   "source": [
    "df.head(3)"
   ]
  },
  {
   "cell_type": "code",
   "execution_count": 187,
   "id": "573ebcc5",
   "metadata": {},
   "outputs": [
    {
     "data": {
      "text/plain": [
       "Text(0.5, 0.98, 'Trip Duration')"
      ]
     },
     "execution_count": 187,
     "metadata": {},
     "output_type": "execute_result"
    },
    {
     "data": {
      "image/png": "[encoded data removed]",
      "text/plain": [
       "<Figure size 432x288 with 1 Axes>"
      ]
     },
     "metadata": {
      "needs_background": "light"
     },
     "output_type": "display_data"
    }
   ],
   "source": [
    "\n",
    "fig = plt.figure()\n",
    "\n",
    "sns.kdeplot(df['trip_duration'],shade=True)\n",
    "\n",
    "fig.suptitle(('Trip Duration'), fontsize=20)"
   ]
  },
  {
   "cell_type": "code",
   "execution_count": 186,
   "id": "55fc1daa",
   "metadata": {},
   "outputs": [
    {
     "data": {
      "text/plain": [
       "Text(0.5, 0.98, 'Birth_Year')"
      ]
     },
     "execution_count": 186,
     "metadata": {},
     "output_type": "execute_result"
    },
    {
     "data": {
      "image/png": "[encoded data removed]",
      "text/plain": [
       "<Figure size 432x288 with 1 Axes>"
      ]
     },
     "metadata": {
      "needs_background": "light"
     },
     "output_type": "display_data"
    }
   ],
   "source": [
    "fig = plt.figure()\n",
    "\n",
    "sns.kdeplot(df['birth_year'],shade=True)\n",
    "\n",
    "fig.suptitle(('Birth_Year'), fontsize=20)"
   ]
  },
  {
   "cell_type": "code",
   "execution_count": 194,
   "id": "b14566e7",
   "metadata": {},
   "outputs": [],
   "source": [
    "#changing the value of weekday to make it easier to sort them\n",
    "df.loc[df[\"weekday\"] == \"Mon\" , \"weekday\"] =  1\n",
    "df.loc[df[\"weekday\"] == \"Sun\" , \"weekday\"] =  0\n",
    "df.loc[df[\"weekday\"] == \"Fri\" , \"weekday\"] =  5\n",
    "df.loc[df[\"weekday\"] == \"Wed\" , \"weekday\"] =  3\n",
    "df.loc[df[\"weekday\"] == \"Tue\" , \"weekday\"] =  2\n",
    "df.loc[df[\"weekday\"] == \"Thu\" , \"weekday\"] =  4\n",
    "df.loc[df[\"weekday\"] == \"Sat\" , \"weekday\"] =  6"
   ]
  },
  {
   "cell_type": "code",
   "execution_count": null,
   "id": "3d606203",
   "metadata": {},
   "outputs": [],
   "source": []
  },
  {
   "cell_type": "code",
   "execution_count": 192,
   "id": "b0a6a82e",
   "metadata": {},
   "outputs": [
    {
     "data": {
      "text/plain": [
       "Text(0.5, 0.98, 'Start_hour')"
      ]
     },
     "execution_count": 192,
     "metadata": {},
     "output_type": "execute_result"
    },
    {
     "data": {
      "text/plain": [
       "<Figure size 432x288 with 0 Axes>"
      ]
     },
     "metadata": {},
     "output_type": "display_data"
    },
    {
     "data": {
      "image/png": "[encoded data removed]",
      "text/plain": [
       "<Figure size 360x360 with 1 Axes>"
      ]
     },
     "metadata": {
      "needs_background": "light"
     },
     "output_type": "display_data"
    }
   ],
   "source": [
    "fig = plt.figure()\n",
    "\n",
    "a=sns.displot(df, x=\"start_hour\")\n",
    "\n",
    "a.fig.suptitle(('Start_hour'), fontsize=20)"
   ]
  },
  {
   "cell_type": "code",
   "execution_count": 130,
   "id": "32eb900a",
   "metadata": {},
   "outputs": [
    {
     "data": {
      "text/plain": [
       "Text(0.5, 0.98, 'Distribution of trips by subcriber/non-subcriber')"
      ]
     },
     "execution_count": 130,
     "metadata": {},
     "output_type": "execute_result"
    },
    {
     "data": {
      "text/plain": [
       "<Figure size 432x288 with 0 Axes>"
      ]
     },
     "metadata": {},
     "output_type": "display_data"
    },
    {
     "data": {
      "image/png": "[encoded data removed]",
      "text/plain": [
       "<Figure size 360x360 with 1 Axes>"
      ]
     },
     "metadata": {
      "needs_background": "light"
     },
     "output_type": "display_data"
    }
   ],
   "source": [
    "fig = plt.figure()\n",
    "\n",
    "a=sns.displot(df, x=\"subscriber\")\n",
    "\n",
    "a.fig.suptitle(('Distribution of trips by subcriber/non-subcriber'), fontsize=20)"
   ]
  },
  {
   "cell_type": "code",
   "execution_count": 129,
   "id": "04701338",
   "metadata": {
    "scrolled": false
   },
   "outputs": [
    {
     "data": {
      "text/plain": [
       "Text(0.5, 0.98, 'Distribution of trips by day of the week')"
      ]
     },
     "execution_count": 129,
     "metadata": {},
     "output_type": "execute_result"
    },
    {
     "data": {
      "text/plain": [
       "<Figure size 432x288 with 0 Axes>"
      ]
     },
     "metadata": {},
     "output_type": "display_data"
    },
    {
     "data": {
      "image/png": "[encoded data removed]",
      "text/plain": [
       "<Figure size 360x360 with 1 Axes>"
      ]
     },
     "metadata": {
      "needs_background": "light"
     },
     "output_type": "display_data"
    }
   ],
   "source": [
    "fig = plt.figure()\n",
    "\n",
    "a=sns.displot(df, x=\"weekday\")\n",
    "\n",
    "a.fig.suptitle(('Distribution of trips by day of the week'), fontsize=20)"
   ]
  },
  {
   "cell_type": "markdown",
   "id": "629b9d46",
   "metadata": {},
   "source": []
  },
  {
   "cell_type": "code",
   "execution_count": null,
   "id": "63df4b36",
   "metadata": {},
   "outputs": [],
   "source": []
  },
  {
   "cell_type": "code",
   "execution_count": null,
   "id": "a1c2b985",
   "metadata": {},
   "outputs": [],
   "source": []
  },
  {
   "cell_type": "code",
   "execution_count": null,
   "id": "d2e640ee",
   "metadata": {},
   "outputs": [],
   "source": []
  },
  {
   "cell_type": "code",
   "execution_count": null,
   "id": "87bb9f97",
   "metadata": {},
   "outputs": [],
   "source": []
  },
  {
   "cell_type": "code",
   "execution_count": null,
   "id": "dca495c7",
   "metadata": {},
   "outputs": [],
   "source": []
  },
  {
   "cell_type": "code",
   "execution_count": null,
   "id": "dcd45888",
   "metadata": {},
   "outputs": [],
   "source": []
  }
 ],
 "metadata": {
  "kernelspec": {
   "display_name": "Python 3 (ipykernel)",
   "language": "python",
   "name": "python3"
  },
  "language_info": {
   "codemirror_mode": {
    "name": "ipython",
    "version": 3
   },
   "file_extension": ".py",
   "mimetype": "text/x-python",
   "name": "python",
   "nbconvert_exporter": "python",
   "pygments_lexer": "ipython3",
   "version": "3.9.7"
  }
 },
 "nbformat": 4,
 "nbformat_minor": 5
}
